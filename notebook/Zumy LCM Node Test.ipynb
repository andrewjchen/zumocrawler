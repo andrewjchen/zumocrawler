{
 "metadata": {
  "name": "",
  "signature": "sha256:26b80c5be448a5c8cf702b794ff91ed146520f1691fff8059f7d1deb63f456c6"
 },
 "nbformat": 3,
 "nbformat_minor": 0,
 "worksheets": [
  {
   "cells": [
    {
     "cell_type": "markdown",
     "metadata": {},
     "source": [
      "<img src=\"http://robotics.eecs.berkeley.edu/~ronf/biomimetics-thin.jpg\">"
     ]
    },
    {
     "cell_type": "heading",
     "level": 1,
     "metadata": {},
     "source": [
      "Zumy LCM Node Test"
     ]
    },
    {
     "cell_type": "code",
     "collapsed": false,
     "input": [
      "import time, lcm\n",
      "from python.fearing import base_cmd\n",
      "import python.fearing"
     ],
     "language": "python",
     "metadata": {},
     "outputs": [],
     "prompt_number": 1
    },
    {
     "cell_type": "code",
     "collapsed": false,
     "input": [
      "class LCMBot:\n",
      "    def __init__(self, base_cmd_channel):\n",
      "        self.lcm=lcm.LCM('udpm://239.255.76.67:7667?ttl=1')\n",
      "        self.base_cmd_channel = base_cmd_channel\n",
      "        self.msg=base_cmd()\n",
      "        self.msg.header = python.fearing.header()\n",
      "    def drive(self, l, r):\n",
      "        self.msg.left_cmd=l\n",
      "        self.msg.right_cmd=r\n",
      "        self.lcm.publish(self.base_cmd_channel, self.msg.encode())"
     ],
     "language": "python",
     "metadata": {},
     "outputs": [],
     "prompt_number": 2
    },
    {
     "cell_type": "code",
     "collapsed": false,
     "input": [
      "robot = LCMBot('/040/base_cmd')"
     ],
     "language": "python",
     "metadata": {},
     "outputs": [],
     "prompt_number": 3
    },
    {
     "cell_type": "code",
     "collapsed": false,
     "input": [
      "robot.drive(0,0)"
     ],
     "language": "python",
     "metadata": {},
     "outputs": [],
     "prompt_number": 4
    },
    {
     "cell_type": "code",
     "collapsed": false,
     "input": [
      "robot.drive(.1,.1)"
     ],
     "language": "python",
     "metadata": {},
     "outputs": [],
     "prompt_number": 5
    },
    {
     "cell_type": "code",
     "collapsed": false,
     "input": [
      "from IPython.html.widgets import interact"
     ],
     "language": "python",
     "metadata": {},
     "outputs": [],
     "prompt_number": 7
    },
    {
     "cell_type": "code",
     "collapsed": false,
     "input": [
      "@interact(l=(-1.0,1.0,0.05), r=(-1.0,1.0,0.05))\n",
      "def drive(l=0.,r=0.):\n",
      "    robot.drive(l,r)"
     ],
     "language": "python",
     "metadata": {},
     "outputs": [],
     "prompt_number": 8
    },
    {
     "cell_type": "code",
     "collapsed": false,
     "input": [],
     "language": "python",
     "metadata": {},
     "outputs": []
    }
   ],
   "metadata": {}
  }
 ]
}